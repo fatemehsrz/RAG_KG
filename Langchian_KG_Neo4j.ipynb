{
 "cells": [
  {
   "cell_type": "markdown",
   "metadata": {
    "id": "QjVDxvAMe_Vg"
   },
   "source": [
    "## Enhancing RAG accuracy with Knowledge Graphs"
   ]
  },
  {
   "cell_type": "markdown",
   "metadata": {
    "id": "9Rot2tkudXgk"
   },
   "source": [
    "### Query Process Workflow with Llama-Index and Nebula Graph:\n",
    "\n",
    "  - **Build Knowledge Graph for the given Context**\n",
    "  - **Get Key Entities/Relationships related to Query**\n",
    "  - **Get SubGraphs**\n",
    "  - **Generate answer based on SubGraphs**\n"
   ]
  },
  {
   "cell_type": "code",
   "execution_count": 8,
   "metadata": {
    "id": "BQRhQ5kLRrBA"
   },
   "outputs": [],
   "source": [
    "%pip install --upgrade --quiet  langchain langchain-community \n",
    "%pip install --upgrade --quiet  langchain-openai langchain-experimental neo4j wikipedia tiktoken yfiles_jupyter_graphs"
   ]
  },
  {
   "cell_type": "code",
   "execution_count": 9,
   "metadata": {
    "id": "iC6mZMVJ4-di"
   },
   "outputs": [],
   "source": [
    "%pip install --upgrade --quiet  wikipedia"
   ]
  },
  {
   "cell_type": "code",
   "execution_count": 1,
   "metadata": {
    "colab": {
     "base_uri": "https://localhost:8080/"
    },
    "id": "VwWmrpkI5mcy",
    "outputId": "bc46fdeb-93ce-42ba-860d-b18efd61d26b"
   },
   "outputs": [],
   "source": [
    "%pip install langchain-experimental\n",
    "%pip install json-repair"
   ]
  },
  {
   "cell_type": "code",
   "execution_count": 11,
   "metadata": {
    "id": "m0iZo0-g20RK"
   },
   "outputs": [],
   "source": [
    "from langchain_core.runnables import (\n",
    "    RunnableBranch,\n",
    "    RunnableLambda,\n",
    "    RunnableParallel,\n",
    "    RunnablePassthrough,\n",
    ")\n",
    "from langchain_core.prompts import ChatPromptTemplate\n",
    "from langchain_core.prompts.prompt import PromptTemplate\n",
    "from langchain_core.pydantic_v1 import BaseModel, Field\n",
    "from typing import Tuple, List, Optional\n",
    "from langchain_core.messages import AIMessage, HumanMessage\n",
    "from langchain_core.output_parsers import StrOutputParser\n",
    "import os\n",
    "from langchain_community.graphs import Neo4jGraph\n",
    "from langchain_text_splitters import RecursiveCharacterTextSplitter\n",
    "from neo4j import GraphDatabase\n",
    "from yfiles_jupyter_graphs import GraphWidget\n",
    "from langchain_community.vectorstores import Neo4jVector\n",
    "from langchain_openai import OpenAIEmbeddings\n",
    "from langchain_community.vectorstores.neo4j_vector import remove_lucene_chars\n",
    "from langchain_core.runnables import ConfigurableField\n",
    "from langchain_community.document_loaders import WikipediaLoader\n",
    "import os\n",
    "from langchain_community.vectorstores.neo4j_vector import Neo4jVector\n",
    "from langchain_openai import AzureOpenAIEmbeddings\n",
    "from langchain_openai import AzureOpenAI\n",
    "from langchain_openai import AzureChatOpenAI, ChatOpenAI\n",
    "from langchain_experimental.graph_transformers import LLMGraphTransformer\n",
    "from langchain_text_splitters import TokenTextSplitter\n",
    "from langchain_community.document_loaders import TextLoader\n",
    "from langchain_core.documents import Document\n",
    "\n",
    "\n",
    "try:\n",
    "  import google.colab\n",
    "  from google.colab import output\n",
    "  output.enable_custom_widget_manager()\n",
    "except:\n",
    "  pass"
   ]
  },
  {
   "cell_type": "code",
   "execution_count": 12,
   "metadata": {
    "id": "zpsBKYLlUoEu"
   },
   "outputs": [],
   "source": [
    "neo4j_url = \"neo4j+s://------------.databases.neo4j.io\"\n",
    "neo4j_user =\"neo4j\"\n",
    "neo4j_password = \"Z-------------------------------\"\n",
    "\n",
    "graph = Neo4jGraph(\n",
    "    url=neo4j_url,\n",
    "    username=neo4j_user,\n",
    "    password=neo4j_password\n",
    ")"
   ]
  },
  {
   "cell_type": "code",
   "execution_count": 13,
   "metadata": {
    "id": "RdC1lopgdccY"
   },
   "outputs": [],
   "source": [
    "emb_api_key = \"e-------------------------------------\"\n",
    "emb_azure_endpoint = \"https://---------------.openai.azure.com/\"\n",
    "emb_deployment_name= \"text-embedding-ada-002\"\n",
    "\n",
    "\n",
    "api_version = \"2023-07-01-preview\"\n",
    "azure_api_key = \"3-----------------------------------\"\n",
    "azure_endpoint = \"https://-------------------.openai.azure.com/\"\n",
    "deploy_name= \"gpt-4-0613\"\n",
    "\n",
    "llm_chat = AzureChatOpenAI(temperature=0.0,\n",
    "                           model_name=\"gpt-4\",\n",
    "                           openai_api_version=api_version,\n",
    "                           azure_deployment=deploy_name,\n",
    "                           openai_api_key=azure_api_key,\n",
    "                           azure_endpoint=azure_endpoint\n",
    "                          )\n",
    "\n",
    "llm_transformer = LLMGraphTransformer(llm=llm_chat)\n",
    "\n",
    "\n",
    "openai_embed = AzureOpenAIEmbeddings(\n",
    "    model=\"text-embedding-ada-002\",\n",
    "    api_key=emb_api_key,\n",
    "    azure_endpoint=emb_azure_endpoint,\n",
    "    api_version=api_version,\n",
    "    )"
   ]
  },
  {
   "cell_type": "code",
   "execution_count": 14,
   "metadata": {
    "colab": {
     "base_uri": "https://localhost:8080/"
    },
    "id": "o77XG4IV9xQF",
    "outputId": "56b16206-a05e-404c-aa31-c64aaacadc65"
   },
   "outputs": [
    {
     "name": "stderr",
     "output_type": "stream",
     "text": [
      "/usr/local/lib/python3.10/dist-packages/wikipedia/wikipedia.py:389: GuessedAtParserWarning: No parser was explicitly specified, so I'm using the best available HTML parser for this system (\"lxml\"). This usually isn't a problem, but if you run this code on another system, or in a different virtual environment, it may use a different parser and behave differently.\n",
      "\n",
      "The code that caused this warning is on line 389 of the file /usr/local/lib/python3.10/dist-packages/wikipedia/wikipedia.py. To get rid of this warning, pass the additional argument 'features=\"lxml\"' to the BeautifulSoup constructor.\n",
      "\n",
      "  lis = BeautifulSoup(html).find_all('li')\n"
     ]
    },
    {
     "name": "stdout",
     "output_type": "stream",
     "text": [
      "Nodes:[Node(id='Tesla Cybertruck', type='Vehicle'), Node(id='Tesla, Inc.', type='Company'), Node(id='2023', type='Year'), Node(id='November 2019', type='Date'), Node(id='North America', type='Location'), Node(id='Cyberbeast', type='Vehicle model'), Node(id='Us Nhtsa', type='Organization'), Node(id='April 2024', type='Date'), Node(id='Elon Musk', type='Person'), Node(id='2012', type='Year'), Node(id='2014', type='Year'), Node(id='Ford F-150', type='Vehicle'), Node(id='2016', type='Year'), Node(id='Tesla Master Plan', type='Plan'), Node(id='2017', type='Year'), Node(id='Tesla Semi', type='Vehicle'), Node(id='Roadster', type='Vehicle'), Node(id='March 2019', type='Date'), Node(id='Tesla Model Y', type='Vehicle'), Node(id='Model B', type='Vehicle'), Node(id='November 6, 2019', type='Date'), Node(id='Cybrtrk', type='Trademark'), Node(id='United States Patent And Trademark Office', type='Organization'), Node(id='August 10, 2020', type='Date'), Node(id='Los Angeles', type='Location'), Node(id='Blade Runner', type='Movie'), Node(id='Armor Glass', type='Product')]\n",
      "Relationships:[Relationship(source=Node(id='Tesla Cybertruck', type='Vehicle'), target=Node(id='Tesla, Inc.', type='Company'), type='BUILT_BY'), Relationship(source=Node(id='Tesla Cybertruck', type='Vehicle'), target=Node(id='2023', type='Year'), type='BUILT_SINCE'), Relationship(source=Node(id='Tesla Cybertruck', type='Vehicle'), target=Node(id='November 2019', type='Date'), type='CONCEPT_INTRODUCED'), Relationship(source=Node(id='Tesla Cybertruck', type='Vehicle'), target=Node(id='North America', type='Location'), type='AVAILABLE_IN'), Relationship(source=Node(id='Cyberbeast', type='Vehicle model'), target=Node(id='Tesla Cybertruck', type='Vehicle'), type='MODEL_OF'), Relationship(source=Node(id='Tesla Cybertruck', type='Vehicle'), target=Node(id='Us Nhtsa', type='Organization'), type='RECALLED_BY'), Relationship(source=Node(id='Tesla Cybertruck', type='Vehicle'), target=Node(id='April 2024', type='Date'), type='RECALLED_ON'), Relationship(source=Node(id='Elon Musk', type='Person'), target=Node(id='Tesla Cybertruck', type='Vehicle'), type='ENVISIONED'), Relationship(source=Node(id='Elon Musk', type='Person'), target=Node(id='2012', type='Year'), type='ENVISIONED_IN'), Relationship(source=Node(id='Elon Musk', type='Person'), target=Node(id='Ford F-150', type='Vehicle'), type='COMPARED'), Relationship(source=Node(id='Elon Musk', type='Person'), target=Node(id='2014', type='Year'), type='COMPARED_IN'), Relationship(source=Node(id='Tesla Cybertruck', type='Vehicle'), target=Node(id='Tesla Master Plan', type='Plan'), type='INCLUDED_IN'), Relationship(source=Node(id='Tesla Cybertruck', type='Vehicle'), target=Node(id='2016', type='Year'), type='INCLUDED_IN_PLAN'), Relationship(source=Node(id='Elon Musk', type='Person'), target=Node(id='2017', type='Year'), type='TEASED_IN'), Relationship(source=Node(id='Tesla Cybertruck', type='Vehicle'), target=Node(id='Tesla Semi', type='Vehicle'), type='REVEALED_WITH'), Relationship(source=Node(id='Tesla Cybertruck', type='Vehicle'), target=Node(id='Roadster', type='Vehicle'), type='REVEALED_WITH'), Relationship(source=Node(id='Elon Musk', type='Person'), target=Node(id='March 2019', type='Date'), type='DISTRIBUTED_TEASER'), Relationship(source=Node(id='Tesla Cybertruck', type='Vehicle'), target=Node(id='Tesla Model Y', type='Vehicle'), type='FOLLOWED'), Relationship(source=Node(id='Tesla Cybertruck', type='Vehicle'), target=Node(id='Model B', type='Vehicle'), type='RUMORED_TO_BE'), Relationship(source=Node(id='Tesla, Inc.', type='Company'), target=Node(id='Cybrtrk', type='Trademark'), type='FILED_FOR'), Relationship(source=Node(id='Tesla, Inc.', type='Company'), target=Node(id='November 6, 2019', type='Date'), type='FILED_ON'), Relationship(source=Node(id='Cybrtrk', type='Trademark'), target=Node(id='United States Patent And Trademark Office', type='Organization'), type='GRANTED_BY'), Relationship(source=Node(id='Cybrtrk', type='Trademark'), target=Node(id='August 10, 2020', type='Date'), type='ABANDONED_ON'), Relationship(source=Node(id='Tesla Cybertruck', type='Vehicle'), target=Node(id='Los Angeles', type='Location'), type='UNVEILED_IN'), Relationship(source=Node(id='Tesla Cybertruck', type='Vehicle'), target=Node(id='Blade Runner', type='Movie'), type='SET_IN'), Relationship(source=Node(id='Tesla Cybertruck', type='Vehicle'), target=Node(id='Armor Glass', type='Product'), type='EQUIPPED_WITH')]\n"
     ]
    }
   ],
   "source": [
    "raw_documents = WikipediaLoader(query=\"Tesla Cybertruck\").load()\n",
    "text_splitter = TokenTextSplitter(chunk_size=512, chunk_overlap=24)\n",
    "documents = text_splitter.split_documents(raw_documents[:3])\n",
    "\n",
    "graph_documents = llm_transformer.convert_to_graph_documents(documents)\n",
    "graph.add_graph_documents(\n",
    "    graph_documents,\n",
    "    baseEntityLabel=True,\n",
    "    include_source=True\n",
    ")\n",
    "\n",
    "print(f\"Nodes:{graph_documents[0].nodes}\")\n",
    "print(f\"Relationships:{graph_documents[0].relationships}\")"
   ]
  },
  {
   "cell_type": "code",
   "execution_count": 15,
   "metadata": {
    "id": "QZriv2vP7XM0"
   },
   "outputs": [],
   "source": [
    "# directly show the graph resulting from the given Cypher query\n",
    "default_cypher = \"MATCH (s)-[r:!MENTIONS]->(t) RETURN s,r,t LIMIT 50\"\n",
    "\n",
    "url=neo4j_url,\n",
    "username=neo4j_user,\n",
    "password=neo4j_password,\n",
    "\n",
    "def showGraph(cypher: str = default_cypher):\n",
    "    # create a neo4j session to run queries\n",
    "    driver = GraphDatabase.driver(\n",
    "        uri = neo4j_url,\n",
    "        auth = (neo4j_user,  neo4j_password))\n",
    "    session = driver.session()\n",
    "    widget = GraphWidget(graph = session.run(cypher).graph())\n",
    "    widget.node_label_mapping = 'id'\n",
    "    #display(widget)\n",
    "    return widget\n",
    "\n",
    "#showGraph()"
   ]
  },
  {
   "cell_type": "code",
   "execution_count": 16,
   "metadata": {
    "id": "wlaOIIDs2EAm"
   },
   "outputs": [],
   "source": [
    "vector_index = Neo4jVector.from_existing_graph(\n",
    "    openai_embed,\n",
    "    url=neo4j_url,\n",
    "    username=neo4j_user,\n",
    "    password=neo4j_password,\n",
    "    index_name='tasks',\n",
    "    node_label=\"Task\",\n",
    "    text_node_properties=['name', 'description', 'status'],\n",
    "    embedding_node_property='embedding',\n",
    ")"
   ]
  },
  {
   "cell_type": "code",
   "execution_count": 17,
   "metadata": {
    "id": "_tXsCoHmUoYF"
   },
   "outputs": [],
   "source": [
    "graph.query(\n",
    "    \"CREATE FULLTEXT INDEX entity IF NOT EXISTS FOR (e:__Entity__) ON EACH [e.id]\")\n",
    "\n",
    "# Extract entities from text\n",
    "class Entities(BaseModel):\n",
    "    \"\"\"Identifying information about entities.\"\"\"\n",
    "\n",
    "    names: List[str] = Field(\n",
    "        ...,\n",
    "        description=\"All the person, organization, or business entities that \"\n",
    "        \"appear in the text\",\n",
    "    )\n",
    "\n",
    "prompt = ChatPromptTemplate.from_messages(\n",
    "    [\n",
    "        (\n",
    "            \"system\",\n",
    "            \"You are extracting organization and person entities from the text.\",\n",
    "        ),\n",
    "        (\n",
    "            \"human\",\n",
    "            \"Use the given format to extract information from the following \"\n",
    "            \"input: {question}\",\n",
    "        ),\n",
    "    ]\n",
    ")\n",
    "\n",
    "entity_chain = prompt | llm_chat.with_structured_output(Entities)"
   ]
  },
  {
   "cell_type": "code",
   "execution_count": 18,
   "metadata": {
    "colab": {
     "base_uri": "https://localhost:8080/"
    },
    "id": "SEajH4OgUobA",
    "outputId": "f9518b4f-526e-48b3-a04c-48853bd7f725"
   },
   "outputs": [
    {
     "data": {
      "text/plain": [
       "['Amelia Earhart']"
      ]
     },
     "execution_count": 18,
     "metadata": {},
     "output_type": "execute_result"
    }
   ],
   "source": [
    "entity_chain.invoke({\"question\": \"Where was Amelia Earhart born?\"}).names"
   ]
  },
  {
   "cell_type": "code",
   "execution_count": 19,
   "metadata": {
    "id": "umFzqie_Uoec"
   },
   "outputs": [],
   "source": [
    "def generate_full_text_query(input: str) -> str:\n",
    "    \"\"\"\n",
    "    Generate a full-text search query for a given input string.\n",
    "\n",
    "    This function constructs a query string suitable for a full-text search.\n",
    "    It processes the input string by splitting it into words and appending a\n",
    "    similarity threshold (~2 changed characters) to each word, then combines\n",
    "    them using the AND operator. Useful for mapping entities from user questions\n",
    "    to database values, and allows for some misspelings.\n",
    "    \"\"\"\n",
    "    full_text_query = \"\"\n",
    "    words = [el for el in remove_lucene_chars(input).split() if el]\n",
    "    for word in words[:-1]:\n",
    "        full_text_query += f\" {word}~2 AND\"\n",
    "    full_text_query += f\" {words[-1]}~2\"\n",
    "    return full_text_query.strip()\n",
    "\n",
    "# Fulltext index query\n",
    "def structured_retriever(question: str) -> str:\n",
    "    \"\"\"\n",
    "    Collects the neighborhood of entities mentioned\n",
    "    in the question\n",
    "    \"\"\"\n",
    "    result = \"\"\n",
    "    entities = entity_chain.invoke({\"question\": question})\n",
    "    for entity in entities.names:\n",
    "        response = graph.query(\n",
    "            \"\"\"CALL db.index.fulltext.queryNodes('entity', $query, {limit:2})\n",
    "            YIELD node,score\n",
    "            CALL {\n",
    "              WITH node\n",
    "              MATCH (node)-[r:!MENTIONS]->(neighbor)\n",
    "              RETURN node.id + ' - ' + type(r) + ' -> ' + neighbor.id AS output\n",
    "              UNION ALL\n",
    "              WITH node\n",
    "              MATCH (node)<-[r:!MENTIONS]-(neighbor)\n",
    "              RETURN neighbor.id + ' - ' + type(r) + ' -> ' +  node.id AS output\n",
    "            }\n",
    "            RETURN output LIMIT 50\n",
    "            \"\"\",\n",
    "            {\"query\": generate_full_text_query(entity)},\n",
    "        )\n",
    "        result += \"\\n\".join([el['output'] for el in response])\n",
    "    return result"
   ]
  },
  {
   "cell_type": "code",
   "execution_count": 20,
   "metadata": {
    "colab": {
     "base_uri": "https://localhost:8080/"
    },
    "id": "ha0D_w-QUoiF",
    "outputId": "15346988-4348-480f-f343-5f4f58bf0b99"
   },
   "outputs": [
    {
     "name": "stdout",
     "output_type": "stream",
     "text": [
      "Elon Musk - ENVISIONED -> Tesla Cybertruck\n",
      "Elon Musk - ENVISIONED_IN -> 2012\n",
      "Elon Musk - COMPARED -> Ford F-150\n",
      "Elon Musk - ANNOUNCED -> Tesla Cyberquad\n",
      "Elon Musk - CEO -> Tesla, Inc.\n",
      "Elon Musk - INVESTED_IN -> Tesla\n",
      "Elon Musk - CHAIRMAN_OF -> Tesla\n",
      "Elon Musk - COFOUNDER_OF -> Tesla\n",
      "Elon Musk - SOLD_INTEREST_IN -> Paypal\n",
      "Elon Musk - CHAIRMAN -> Tesla\n",
      "Elon Musk - SHAREHOLDER -> Tesla\n",
      "Elon Musk - SHAREHOLDER -> Paypal\n",
      "Elon Musk - CO-FOUNDER -> Tesla\n",
      "Elon Musk - ANNOUNCED_RESERVATIONS -> Cybertruck\n",
      "Elon Musk - CEO_OF -> Tesla, Inc.\n",
      "Elon Musk - INVOLVED_IN -> Roadster\n",
      "Elon Musk - COMPARED_IN -> 2014\n",
      "Elon Musk - TEASED_IN -> 2017\n",
      "Elon Musk - DISTRIBUTED_TEASER -> March 2019\n",
      "Elon Musk - DEPICTED_ON -> Golden Driller Statue\n",
      "Tesla, Inc. - CEO -> Elon Musk\n",
      "Giga Texas - ESTIMATED_BY -> Elon Musk\n",
      "Tesla Cybertruck - RECALLED_BY -> Us Nhtsa\n"
     ]
    }
   ],
   "source": [
    "print(structured_retriever(\"Who is Musk?\"))"
   ]
  },
  {
   "cell_type": "code",
   "execution_count": 21,
   "metadata": {
    "colab": {
     "base_uri": "https://localhost:8080/"
    },
    "id": "EW42D3tqQCSW",
    "outputId": "d5a95f17-ee64-48a1-c01d-dc51c7941fb6"
   },
   "outputs": [
    {
     "name": "stdout",
     "output_type": "stream",
     "text": [
      "Cybertruck - COMPARED -> Ford F-150\n",
      "Cybertruck - EXHIBITED -> Petersen Automotive Museum\n",
      "Cybertruck - AWARDED -> Concept Car Of The Year\n",
      "Cybertruck - EXHIBITED_AT -> Petersen Automotive Museum\n",
      "Cybertruck - ALTERNATIVE_TO -> Fossil-Fuel-Powered Trucks\n",
      "Cybertruck - HAS -> Armor Glass\n",
      "Cybertruck - COMPETES_WITH -> Ford F-150\n",
      "Cybertruck - CARRIES -> Tesla Cyberquad\n",
      "Franz Von Holzhausen - DAMAGED -> Cybertruck\n",
      "Tesla Cyberquad - CHARGED -> Cybertruck\n",
      "Automobile Magazine - AWARDED -> Cybertruck\n",
      "Tesla - MANUFACTURED -> Cybertruck\n",
      "Tesla - PRODUCES -> Cybertruck\n",
      "Gigafactory Texas - PRODUCES -> Cybertruck\n",
      "Tesla Cyberquad - CHARGED_BY -> Cybertruck\n",
      "Elon Musk - ANNOUNCED_RESERVATIONS -> Cybertruck\n",
      "Tesla - ACCEPTS_RESERVATIONS_FOR -> Cybertruck\n",
      "Tesla Cybertruck - PART_OF -> Tesla Master Plan\n",
      "Tesla Cybertruck - BUILT_BY -> Tesla, Inc.\n",
      "Tesla Cybertruck - BUILT_SINCE -> 2023\n",
      "Tesla Cybertruck - CONCEPT_INTRODUCED -> November 2019\n",
      "Tesla Cybertruck - AVAILABLE_IN -> North America\n",
      "Tesla Cybertruck - RECALLED_BY -> Us Nhtsa\n",
      "Tesla Cybertruck - RECALLED_ON -> April 2024\n",
      "Tesla Cybertruck - EQUIVALENT_TO -> Ford F-150\n",
      "Tesla Cybertruck - INCLUDED_IN -> Tesla Master Plan\n",
      "Tesla Cybertruck - TEASED_AT_REVEAL_OF -> Tesla Semi\n",
      "Tesla Cybertruck - TEASED_AT_REVEAL_OF -> Roadster\n",
      "Tesla Cybertruck - TEASED_AFTER_LAUNCH_OF -> Tesla Model Y\n",
      "Tesla Cybertruck - RUMORED_TO_BE_NAMED -> Model B\n",
      "Tesla Cybertruck - UNVEILED_IN -> Los Angeles\n",
      "Tesla Cybertruck - SET_IN_SAME_TIME_AND_LOCATION_AS -> Blade Runner\n",
      "Tesla Cybertruck - EQUIPPED_WITH -> Armor Glass\n",
      "Tesla Cybertruck - TEASED_AT -> Tesla Semi\n",
      "Tesla Cybertruck - TEASED_AT -> Roadster\n",
      "Tesla Cybertruck - FOLLOWED -> Tesla Model Y\n",
      "Tesla Cybertruck - RUMORED_TO_BE -> Model B\n",
      "Tesla Cybertruck - TRADEMARKED_AS -> Cybrtrk\n",
      "Tesla Cybertruck - SET_IN -> Blade Runner\n",
      "Tesla Cybertruck - REVEALED_WITH -> Tesla Semi\n",
      "Tesla Cybertruck - REVEALED_WITH -> Roadster\n",
      "Tesla Cybertruck - LAUNCHED_AFTER -> Tesla Model Y\n",
      "Tesla Cybertruck - SET_IN_SAME_TIME_AND_LOCATION -> Blade Runner\n",
      "Tesla Cybertruck - INCLUDED_IN_PLAN -> 2016\n",
      "Cyberbeast - MODEL_OF -> Tesla Cybertruck\n",
      "Elon Musk - ENVISIONED -> Tesla Cybertruck\n",
      "Cybrtrk - FILED_FOR -> Tesla Cybertruck\n",
      "Tesla Cyberquad - LOADED_ONTO -> Tesla Cybertruck\n",
      "Cybrtrk - TRADEMARK_FOR -> Tesla Cybertruck\n",
      "Tesla Cyberquad - ACCESSORY_FOR -> Tesla Cybertruck\n"
     ]
    }
   ],
   "source": [
    "print(structured_retriever(\"What is Cybertruck?\"))"
   ]
  },
  {
   "cell_type": "code",
   "execution_count": 22,
   "metadata": {
    "id": "E4ElzjARUom0"
   },
   "outputs": [],
   "source": [
    "def retriever(question: str):\n",
    "    print(f\"Search query: {question}\")\n",
    "    structured_data = structured_retriever(question)\n",
    "    unstructured_data = [el.page_content for el in vector_index.similarity_search(question)]\n",
    "    final_data = f\"\"\"Structured data:\n",
    "{structured_data}\n",
    "Unstructured data:\n",
    "{\"#Document \". join(unstructured_data)}\n",
    "    \"\"\"\n",
    "    return final_data"
   ]
  },
  {
   "cell_type": "code",
   "execution_count": 23,
   "metadata": {
    "id": "-t2Q7EM3HSvx"
   },
   "outputs": [],
   "source": [
    "# Condense a chat history and follow-up question into a standalone question\n",
    "_template = \"\"\"Given the following conversation and a follow up question, rephrase the follow up question to be a standalone question,\n",
    "in its original language.\n",
    "Chat History:\n",
    "{chat_history}\n",
    "Follow Up Input: {question}\n",
    "Standalone question:\"\"\"  # noqa: E501\n",
    "CONDENSE_QUESTION_PROMPT = PromptTemplate.from_template(_template)\n",
    "\n",
    "def _format_chat_history(chat_history: List[Tuple[str, str]]) -> List:\n",
    "    buffer = []\n",
    "    for human, ai in chat_history:\n",
    "        buffer.append(HumanMessage(content=human))\n",
    "        buffer.append(AIMessage(content=ai))\n",
    "    return buffer\n",
    "\n",
    "_search_query = RunnableBranch(\n",
    "    # If input includes chat_history, we condense it with the follow-up question\n",
    "    (\n",
    "        RunnableLambda(lambda x: bool(x.get(\"chat_history\"))).with_config(\n",
    "            run_name=\"HasChatHistoryCheck\"\n",
    "        ),  # Condense follow-up question and chat into a standalone_question\n",
    "        RunnablePassthrough.assign(\n",
    "            chat_history=lambda x: _format_chat_history(x[\"chat_history\"])\n",
    "        )\n",
    "        | CONDENSE_QUESTION_PROMPT\n",
    "        | llm_chat\n",
    "        | StrOutputParser(),\n",
    "    ),\n",
    "    # Else, we have no chat history, so just pass through the question\n",
    "    RunnableLambda(lambda x : x[\"question\"]),\n",
    ")"
   ]
  },
  {
   "cell_type": "code",
   "execution_count": 24,
   "metadata": {
    "id": "Jyd3688jHS2d"
   },
   "outputs": [],
   "source": [
    "template = \"\"\"Answer the question based only on the following context:\n",
    "{context}\n",
    "\n",
    "Question: {question}\n",
    "Use natural language and be concise.\n",
    "Answer:\"\"\"\n",
    "prompt = ChatPromptTemplate.from_template(template)\n",
    "\n",
    "chain = (\n",
    "    RunnableParallel(\n",
    "        {\n",
    "            \"context\": _search_query | retriever,\n",
    "            \"question\": RunnablePassthrough(),\n",
    "        }\n",
    "    )\n",
    "    | prompt\n",
    "    | llm_chat\n",
    "    | StrOutputParser()\n",
    ")"
   ]
  },
  {
   "cell_type": "code",
   "execution_count": 25,
   "metadata": {
    "colab": {
     "base_uri": "https://localhost:8080/",
     "height": 87
    },
    "id": "jlcFt3NfHS6J",
    "outputId": "5cfe1053-5769-4c78-e310-4d87ba656f94"
   },
   "outputs": [
    {
     "name": "stdout",
     "output_type": "stream",
     "text": [
      "Search query: What is Cybertruck?\n"
     ]
    },
    {
     "data": {
      "application/vnd.google.colaboratory.intrinsic+json": {
       "type": "string"
      },
      "text/plain": [
       "'Cybertruck is a concept car manufactured by Tesla, Inc. It was introduced in November 2019 and is part of the Tesla Master Plan. It is an alternative to fossil-fuel-powered trucks and competes with the Ford F-150. The Cybertruck is equipped with armor glass and can carry the Tesla Cyberquad. It has been exhibited at the Petersen Automotive Museum and was awarded Concept Car Of The Year by Automobile Magazine.'"
      ]
     },
     "execution_count": 25,
     "metadata": {},
     "output_type": "execute_result"
    }
   ],
   "source": [
    "chain.invoke({\"question\": \"What is Cybertruck?\"})"
   ]
  },
  {
   "cell_type": "code",
   "execution_count": 26,
   "metadata": {
    "colab": {
     "base_uri": "https://localhost:8080/",
     "height": 70
    },
    "id": "kx2O7NL1aIFz",
    "outputId": "3f6ebec8-652f-4507-9046-9766828ca147"
   },
   "outputs": [
    {
     "name": "stdout",
     "output_type": "stream",
     "text": [
      "Search query: Who is Elon Musk?\n"
     ]
    },
    {
     "data": {
      "application/vnd.google.colaboratory.intrinsic+json": {
       "type": "string"
      },
      "text/plain": [
       "'Elon Musk is the CEO of Tesla, Inc. He is also a co-founder and shareholder of the company. He has been involved in envisioning products like the Tesla Cybertruck and Tesla Cyberquad. He has also invested in Tesla and was previously a shareholder in Paypal.'"
      ]
     },
     "execution_count": 26,
     "metadata": {},
     "output_type": "execute_result"
    }
   ],
   "source": [
    "chain.invoke({\"question\": \"Who is Elon Musk?\"})"
   ]
  },
  {
   "cell_type": "code",
   "execution_count": 30,
   "metadata": {
    "colab": {
     "base_uri": "https://localhost:8080/",
     "height": 53
    },
    "id": "z6NvqfmwaW5p",
    "outputId": "4ac198e2-d53f-4d7d-e8db-5670a7bc59f5"
   },
   "outputs": [
    {
     "name": "stdout",
     "output_type": "stream",
     "text": [
      "Search query: How powerful is the Cybertruck?\n"
     ]
    },
    {
     "data": {
      "application/vnd.google.colaboratory.intrinsic+json": {
       "type": "string"
      },
      "text/plain": [
       "'The text does not provide information on how powerful the Cybertruck is.'"
      ]
     },
     "execution_count": 30,
     "metadata": {},
     "output_type": "execute_result"
    }
   ],
   "source": [
    "chain.invoke({\"question\": \"How powerful is the Cybertruck?\"})"
   ]
  },
  {
   "cell_type": "code",
   "execution_count": 28,
   "metadata": {
    "colab": {
     "base_uri": "https://localhost:8080/",
     "height": 53
    },
    "id": "rNP3B8Tqapu4",
    "outputId": "412939e9-2654-4460-90ac-3d31e959e0a4"
   },
   "outputs": [
    {
     "name": "stdout",
     "output_type": "stream",
     "text": [
      "Search query: Who has envisioned Tesla Cybertruck?\n"
     ]
    },
    {
     "data": {
      "application/vnd.google.colaboratory.intrinsic+json": {
       "type": "string"
      },
      "text/plain": [
       "'Elon Musk has envisioned the Tesla Cybertruck.'"
      ]
     },
     "execution_count": 28,
     "metadata": {},
     "output_type": "execute_result"
    }
   ],
   "source": [
    "chain.invoke({\"question\": \"Who has envisioned Tesla Cybertruck?\"})"
   ]
  },
  {
   "cell_type": "code",
   "execution_count": 29,
   "metadata": {
    "colab": {
     "base_uri": "https://localhost:8080/",
     "height": 53
    },
    "id": "do7CQNioHS91",
    "outputId": "8f933f48-e7e9-4095-fb5e-e26a6e31a2bb"
   },
   "outputs": [
    {
     "name": "stdout",
     "output_type": "stream",
     "text": [
      "Search query: When was the Tesla Cybertruck built?\n"
     ]
    },
    {
     "data": {
      "application/vnd.google.colaboratory.intrinsic+json": {
       "type": "string"
      },
      "text/plain": [
       "'The Tesla Cybertruck has been built since 2023.'"
      ]
     },
     "execution_count": 29,
     "metadata": {},
     "output_type": "execute_result"
    }
   ],
   "source": [
    "chain.invoke(\n",
    "    {\n",
    "        \"question\": \"When was it built?\",\n",
    "        \"chat_history\": [(\"Who has envisioned Tesla Cybertruck?\", \"Elon Musk\")],\n",
    "    }\n",
    ")"
   ]
  },
  {
   "cell_type": "code",
   "execution_count": null,
   "metadata": {},
   "outputs": [],
   "source": []
  },
  {
   "cell_type": "code",
   "execution_count": null,
   "metadata": {},
   "outputs": [],
   "source": []
  },
  {
   "cell_type": "code",
   "execution_count": null,
   "metadata": {},
   "outputs": [],
   "source": []
  },
  {
   "cell_type": "code",
   "execution_count": null,
   "metadata": {},
   "outputs": [],
   "source": []
  },
  {
   "cell_type": "code",
   "execution_count": null,
   "metadata": {},
   "outputs": [],
   "source": []
  }
 ],
 "metadata": {
  "colab": {
   "provenance": []
  },
  "kernelspec": {
   "display_name": "Python 3 (ipykernel)",
   "language": "python",
   "name": "python3"
  },
  "language_info": {
   "codemirror_mode": {
    "name": "ipython",
    "version": 3
   },
   "file_extension": ".py",
   "mimetype": "text/x-python",
   "name": "python",
   "nbconvert_exporter": "python",
   "pygments_lexer": "ipython3",
   "version": "3.8.10"
  }
 },
 "nbformat": 4,
 "nbformat_minor": 4
}
