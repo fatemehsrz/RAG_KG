{
 "cells": [
  {
   "cell_type": "markdown",
   "id": "ce4b1941-0a40-48c6-8376-30de54c18dd2",
   "metadata": {},
   "source": [
    "# Enhancing RAG with Knowledge Graphs"
   ]
  },
  {
   "cell_type": "markdown",
   "id": "24782d5f-00d6-48d8-9ae2-c8680008f7dd",
   "metadata": {},
   "source": [
    "### Query Process Workflow with Llama-Index and Nebula Graph:\n",
    "\n",
    "  - **Build Knowledge Graph for the given Context**\n",
    "  - **Get Key Entities/Relationships related to Query**\n",
    "  - **Get SubGraphs**\n",
    "  - **Generate answer based on SubGraphs**"
   ]
  },
  {
   "cell_type": "code",
   "execution_count": 52,
   "id": "c088399b-2528-4c94-a6f3-45cd53206fbb",
   "metadata": {},
   "outputs": [],
   "source": [
    "%pip install llama-index-readers-wikipedia\n",
    "%pip install llama-index-llms-azure-openai\n",
    "%pip install llama-index-graph-stores-nebula\n",
    "%pip install llama-index-llms-openai\n",
    "%pip install llama-index-embeddings-azure-openai\n",
    "%pip install ipython-ngql nebula3-python"
   ]
  },
  {
   "cell_type": "code",
   "execution_count": 53,
   "id": "d5b2176d-5015-4bb3-9851-7d4cad6da394",
   "metadata": {},
   "outputs": [],
   "source": [
    "#!pip uninstall llama_index==0.8.9\n",
    "!pip install pydantic==1.10.13\n",
    "!pip install llama-index"
   ]
  },
  {
   "cell_type": "code",
   "execution_count": 54,
   "id": "1f4f7c8f-07e5-46cf-b902-e888a66f00ea",
   "metadata": {},
   "outputs": [],
   "source": [
    "__import__('pysqlite3')\n",
    "import sys\n",
    "sys.modules['sqlite3'] = sys.modules.pop('pysqlite3')"
   ]
  },
  {
   "cell_type": "code",
   "execution_count": 55,
   "id": "251c19c7-f2a5-45d7-bc67-3901cb5552f7",
   "metadata": {},
   "outputs": [],
   "source": [
    "import os\n",
    "import logging\n",
    "import sys\n",
    "\n",
    "logging.basicConfig(\n",
    "    stream=sys.stdout, level=logging.INFO\n",
    ")  "
   ]
  },
  {
   "cell_type": "code",
   "execution_count": 56,
   "id": "4621ddbe-6702-4fcb-a388-fbca7c0c5254",
   "metadata": {},
   "outputs": [],
   "source": [
    "\n",
    "from llama_index.llms.azure_openai import AzureOpenAI\n",
    "from llama_index.embeddings.azure_openai import AzureOpenAIEmbedding\n",
    "\n",
    "# For Azure OpenAI\n",
    "api_version = \"2023-07-01-preview\"\n",
    "api_key = \"e------------------------------------\"\n",
    "azure_endpoint = \"https://--------------------.openai.azure.com/\"\n",
    "\n",
    "\n",
    "lc_llm = AzureOpenAI(\n",
    "    model=\"gpt-35-turbo\",\n",
    "    deployment_name=\"gpt-35-turbo\",\n",
    "    api_key=api_key,\n",
    "    azure_endpoint=azure_endpoint,\n",
    "    api_version=api_version,\n",
    ")\n",
    "\n",
    "# You need to deploy your own embedding model as well as your own chat completion model\n",
    "embedding_llm = AzureOpenAIEmbedding(\n",
    "    model=\"text-embedding-ada-002\",\n",
    "    deployment_name=\"text-embedding-ada-002\",\n",
    "    api_key=api_key,\n",
    "    azure_endpoint=azure_endpoint,\n",
    "    api_version=api_version,\n",
    ")"
   ]
  },
  {
   "cell_type": "code",
   "execution_count": 57,
   "id": "2733e14e-bdcb-41ed-acfc-d2dc17e6ff72",
   "metadata": {},
   "outputs": [],
   "source": [
    "os.environ[\"NEBULA_USER\"] = \"root\"\n",
    "os.environ[\"NEBULA_PASSWORD\"] = \"nebula\"  # default is \"nebula\"\n",
    "os.environ['GRAPHD_HOST'] = \"127.0.0.1\"\n",
    "os.environ[\n",
    "    \"NEBULA_ADDRESS\"\n",
    "] = \"127.0.0.1:9669\"  # assumed we have NebulaGraph installed locally\n",
    "\n",
    "space_name = \"rag_workshop\"\n",
    "edge_types, rel_prop_names = [\"relationship\"], [\n",
    "    \"relationship\"\n",
    "]  # default, could be omit if create from an empty kg\n",
    "tags = [\"entity\"]  # default, could be omit if create from an empty kg"
   ]
  },
  {
   "cell_type": "code",
   "execution_count": 58,
   "id": "0ed1ce3a-9eda-4aa6-b088-1785c2cbcde0",
   "metadata": {},
   "outputs": [
    {
     "name": "stdout",
     "output_type": "stream",
     "text": [
      "The ngql extension is already loaded. To reload it, use:\n",
      "  %reload_ext ngql\n",
      "Connection Pool Created\n",
      "INFO:nebula3.logger:Get connection to ('127.0.0.1', 9669)\n"
     ]
    },
    {
     "data": {
      "text/html": [
       "<div>\n",
       "<style scoped>\n",
       "    .dataframe tbody tr th:only-of-type {\n",
       "        vertical-align: middle;\n",
       "    }\n",
       "\n",
       "    .dataframe tbody tr th {\n",
       "        vertical-align: top;\n",
       "    }\n",
       "\n",
       "    .dataframe thead th {\n",
       "        text-align: right;\n",
       "    }\n",
       "</style>\n",
       "<table border=\"1\" class=\"dataframe\">\n",
       "  <thead>\n",
       "    <tr style=\"text-align: right;\">\n",
       "      <th></th>\n",
       "      <th>Name</th>\n",
       "    </tr>\n",
       "  </thead>\n",
       "  <tbody>\n",
       "    <tr>\n",
       "      <th>0</th>\n",
       "      <td>rag_workshop</td>\n",
       "    </tr>\n",
       "  </tbody>\n",
       "</table>\n",
       "</div>"
      ],
      "text/plain": [
       "           Name\n",
       "0  rag_workshop"
      ]
     },
     "execution_count": 58,
     "metadata": {},
     "output_type": "execute_result"
    }
   ],
   "source": [
    "%load_ext ngql\n",
    "connection_string = f\"--address {os.environ['GRAPHD_HOST']} --port 9669 --user root --password {os.environ['NEBULA_PASSWORD']}\"\n",
    "%ngql {connection_string}"
   ]
  },
  {
   "cell_type": "code",
   "execution_count": 59,
   "id": "b1b120c9-b685-410e-b4f0-55cdb8bc4028",
   "metadata": {},
   "outputs": [
    {
     "name": "stdout",
     "output_type": "stream",
     "text": [
      "INFO:nebula3.logger:Get connection to ('127.0.0.1', 9669)\n"
     ]
    },
    {
     "data": {
      "text/html": [
       "<div>\n",
       "<style scoped>\n",
       "    .dataframe tbody tr th:only-of-type {\n",
       "        vertical-align: middle;\n",
       "    }\n",
       "\n",
       "    .dataframe tbody tr th {\n",
       "        vertical-align: top;\n",
       "    }\n",
       "\n",
       "    .dataframe thead th {\n",
       "        text-align: right;\n",
       "    }\n",
       "</style>\n",
       "<table border=\"1\" class=\"dataframe\">\n",
       "  <thead>\n",
       "    <tr style=\"text-align: right;\">\n",
       "      <th></th>\n",
       "    </tr>\n",
       "  </thead>\n",
       "  <tbody>\n",
       "  </tbody>\n",
       "</table>\n",
       "</div>"
      ],
      "text/plain": [
       "Empty DataFrame\n",
       "Columns: []\n",
       "Index: []"
      ]
     },
     "execution_count": 59,
     "metadata": {},
     "output_type": "execute_result"
    }
   ],
   "source": [
    "%ngql CREATE SPACE IF NOT EXISTS rag_workshop(vid_type=FIXED_STRING(256), partition_num=1, replica_factor=1);"
   ]
  },
  {
   "cell_type": "code",
   "execution_count": 60,
   "id": "6be910e4-9a2d-4dfa-85d9-030dd99a2da0",
   "metadata": {},
   "outputs": [
    {
     "name": "stdout",
     "output_type": "stream",
     "text": [
      "INFO:nebula3.logger:Get connection to ('127.0.0.1', 9669)\n"
     ]
    },
    {
     "data": {
      "text/html": [
       "<div>\n",
       "<style scoped>\n",
       "    .dataframe tbody tr th:only-of-type {\n",
       "        vertical-align: middle;\n",
       "    }\n",
       "\n",
       "    .dataframe tbody tr th {\n",
       "        vertical-align: top;\n",
       "    }\n",
       "\n",
       "    .dataframe thead th {\n",
       "        text-align: right;\n",
       "    }\n",
       "</style>\n",
       "<table border=\"1\" class=\"dataframe\">\n",
       "  <thead>\n",
       "    <tr style=\"text-align: right;\">\n",
       "      <th></th>\n",
       "    </tr>\n",
       "  </thead>\n",
       "  <tbody>\n",
       "  </tbody>\n",
       "</table>\n",
       "</div>"
      ],
      "text/plain": [
       "Empty DataFrame\n",
       "Columns: []\n",
       "Index: []"
      ]
     },
     "execution_count": 60,
     "metadata": {},
     "output_type": "execute_result"
    }
   ],
   "source": [
    "%%ngql\n",
    "USE rag_workshop;\n",
    "CREATE TAG IF NOT EXISTS entity(name string);\n",
    "CREATE EDGE IF NOT EXISTS relationship(relationship string);"
   ]
  },
  {
   "cell_type": "code",
   "execution_count": 61,
   "id": "db2d9e36-c445-4e74-bad0-48b5c76f5e4b",
   "metadata": {},
   "outputs": [
    {
     "name": "stdout",
     "output_type": "stream",
     "text": [
      "INFO:nebula3.logger:Get connection to ('127.0.0.1', 9669)\n"
     ]
    },
    {
     "data": {
      "text/html": [
       "<div>\n",
       "<style scoped>\n",
       "    .dataframe tbody tr th:only-of-type {\n",
       "        vertical-align: middle;\n",
       "    }\n",
       "\n",
       "    .dataframe tbody tr th {\n",
       "        vertical-align: top;\n",
       "    }\n",
       "\n",
       "    .dataframe thead th {\n",
       "        text-align: right;\n",
       "    }\n",
       "</style>\n",
       "<table border=\"1\" class=\"dataframe\">\n",
       "  <thead>\n",
       "    <tr style=\"text-align: right;\">\n",
       "      <th></th>\n",
       "    </tr>\n",
       "  </thead>\n",
       "  <tbody>\n",
       "  </tbody>\n",
       "</table>\n",
       "</div>"
      ],
      "text/plain": [
       "Empty DataFrame\n",
       "Columns: []\n",
       "Index: []"
      ]
     },
     "execution_count": 61,
     "metadata": {},
     "output_type": "execute_result"
    }
   ],
   "source": [
    "%ngql CREATE TAG INDEX IF NOT EXISTS entity_index ON entity(name(256));"
   ]
  },
  {
   "cell_type": "code",
   "execution_count": 62,
   "id": "9a23eb40-b2bc-408b-97ae-028c4cf414aa",
   "metadata": {},
   "outputs": [
    {
     "name": "stdout",
     "output_type": "stream",
     "text": [
      "INFO:nebula3.logger:Get connection to ('127.0.0.1', 9669)\n"
     ]
    },
    {
     "data": {
      "text/html": [
       "<div>\n",
       "<style scoped>\n",
       "    .dataframe tbody tr th:only-of-type {\n",
       "        vertical-align: middle;\n",
       "    }\n",
       "\n",
       "    .dataframe tbody tr th {\n",
       "        vertical-align: top;\n",
       "    }\n",
       "\n",
       "    .dataframe thead th {\n",
       "        text-align: right;\n",
       "    }\n",
       "</style>\n",
       "<table border=\"1\" class=\"dataframe\">\n",
       "  <thead>\n",
       "    <tr style=\"text-align: right;\">\n",
       "      <th></th>\n",
       "      <th>Host</th>\n",
       "      <th>Port</th>\n",
       "      <th>Status</th>\n",
       "      <th>Leader count</th>\n",
       "      <th>Leader distribution</th>\n",
       "      <th>Partition distribution</th>\n",
       "      <th>Version</th>\n",
       "    </tr>\n",
       "  </thead>\n",
       "  <tbody>\n",
       "    <tr>\n",
       "      <th>0</th>\n",
       "      <td>storaged0</td>\n",
       "      <td>9779</td>\n",
       "      <td>ONLINE</td>\n",
       "      <td>0</td>\n",
       "      <td>No valid partition</td>\n",
       "      <td>No valid partition</td>\n",
       "      <td>3.6.0</td>\n",
       "    </tr>\n",
       "    <tr>\n",
       "      <th>1</th>\n",
       "      <td>storaged1</td>\n",
       "      <td>9779</td>\n",
       "      <td>ONLINE</td>\n",
       "      <td>0</td>\n",
       "      <td>No valid partition</td>\n",
       "      <td>No valid partition</td>\n",
       "      <td>3.6.0</td>\n",
       "    </tr>\n",
       "    <tr>\n",
       "      <th>2</th>\n",
       "      <td>storaged2</td>\n",
       "      <td>9779</td>\n",
       "      <td>ONLINE</td>\n",
       "      <td>1</td>\n",
       "      <td>rag_workshop:1</td>\n",
       "      <td>rag_workshop:1</td>\n",
       "      <td>3.6.0</td>\n",
       "    </tr>\n",
       "  </tbody>\n",
       "</table>\n",
       "</div>"
      ],
      "text/plain": [
       "        Host  Port  Status  Leader count Leader distribution  \\\n",
       "0  storaged0  9779  ONLINE             0  No valid partition   \n",
       "1  storaged1  9779  ONLINE             0  No valid partition   \n",
       "2  storaged2  9779  ONLINE             1      rag_workshop:1   \n",
       "\n",
       "  Partition distribution Version  \n",
       "0     No valid partition   3.6.0  \n",
       "1     No valid partition   3.6.0  \n",
       "2         rag_workshop:1   3.6.0  "
      ]
     },
     "execution_count": 62,
     "metadata": {},
     "output_type": "execute_result"
    }
   ],
   "source": [
    "%ngql SHOW HOSTS"
   ]
  },
  {
   "cell_type": "code",
   "execution_count": 63,
   "id": "8d97807a-492c-4e9e-a403-34a72972097f",
   "metadata": {},
   "outputs": [],
   "source": [
    "from llama_index.core import StorageContext\n",
    "from llama_index.graph_stores.nebula import NebulaGraphStore\n",
    "from llama_index.core import Settings\n",
    "from llama_index.core import KnowledgeGraphIndex\n",
    "from llama_index.core import load_index_from_storage\n",
    "from llama_index.core import StorageContext\n",
    "from llama_index.core import SimpleDirectoryReader, KnowledgeGraphIndex,  VectorStoreIndex\n",
    "from llama_index.core import ServiceContext, set_global_service_context\n",
    "\n",
    "\n",
    "Settings.llm = lc_llm \n",
    "Settings.embed_model = embedding_llm\n",
    "Settings.chunk_size = 512\n",
    "\n",
    "graph_store = NebulaGraphStore(\n",
    "    space_name=space_name,\n",
    "    edge_types=edge_types,\n",
    "    rel_prop_names=rel_prop_names,\n",
    "    tags=tags,\n",
    ")\n",
    "storage_context = StorageContext.from_defaults(graph_store=graph_store)"
   ]
  },
  {
   "cell_type": "code",
   "execution_count": 64,
   "id": "2af1089b-f23b-4f03-b91c-5f17e558dfa4",
   "metadata": {},
   "outputs": [],
   "source": [
    "from llama_index.core import download_loader\n",
    "\n",
    "from llama_index.readers.wikipedia import WikipediaReader\n",
    "\n",
    "loader = WikipediaReader()\n",
    "\n",
    "documents = loader.load_data(\n",
    "    pages=[\"Tesla Cybertruck\"], auto_suggest=False\n",
    ")"
   ]
  },
  {
   "cell_type": "code",
   "execution_count": 65,
   "id": "e23fc08f-6b82-4881-a42f-9bc493a244bc",
   "metadata": {},
   "outputs": [
    {
     "name": "stdout",
     "output_type": "stream",
     "text": [
      "INFO:httpx:HTTP Request: POST https://azure-openai-98325.openai.azure.com//openai/deployments/gpt-35-turbo/chat/completions?api-version=2023-07-01-preview \"HTTP/1.1 200 OK\"\n",
      "INFO:httpx:HTTP Request: POST https://azure-openai-98325.openai.azure.com//openai/deployments/text-embedding-ada-002/embeddings?api-version=2023-07-01-preview \"HTTP/1.1 200 OK\"\n",
      "INFO:httpx:HTTP Request: POST https://azure-openai-98325.openai.azure.com//openai/deployments/gpt-35-turbo/chat/completions?api-version=2023-07-01-preview \"HTTP/1.1 200 OK\"\n",
      "INFO:httpx:HTTP Request: POST https://azure-openai-98325.openai.azure.com//openai/deployments/text-embedding-ada-002/embeddings?api-version=2023-07-01-preview \"HTTP/1.1 200 OK\"\n",
      "INFO:httpx:HTTP Request: POST https://azure-openai-98325.openai.azure.com//openai/deployments/gpt-35-turbo/chat/completions?api-version=2023-07-01-preview \"HTTP/1.1 200 OK\"\n",
      "INFO:httpx:HTTP Request: POST https://azure-openai-98325.openai.azure.com//openai/deployments/text-embedding-ada-002/embeddings?api-version=2023-07-01-preview \"HTTP/1.1 200 OK\"\n",
      "INFO:httpx:HTTP Request: POST https://azure-openai-98325.openai.azure.com//openai/deployments/gpt-35-turbo/chat/completions?api-version=2023-07-01-preview \"HTTP/1.1 200 OK\"\n",
      "INFO:httpx:HTTP Request: POST https://azure-openai-98325.openai.azure.com//openai/deployments/text-embedding-ada-002/embeddings?api-version=2023-07-01-preview \"HTTP/1.1 200 OK\"\n",
      "INFO:httpx:HTTP Request: POST https://azure-openai-98325.openai.azure.com//openai/deployments/gpt-35-turbo/chat/completions?api-version=2023-07-01-preview \"HTTP/1.1 200 OK\"\n",
      "INFO:httpx:HTTP Request: POST https://azure-openai-98325.openai.azure.com//openai/deployments/text-embedding-ada-002/embeddings?api-version=2023-07-01-preview \"HTTP/1.1 200 OK\"\n",
      "INFO:httpx:HTTP Request: POST https://azure-openai-98325.openai.azure.com//openai/deployments/gpt-35-turbo/chat/completions?api-version=2023-07-01-preview \"HTTP/1.1 200 OK\"\n",
      "INFO:httpx:HTTP Request: POST https://azure-openai-98325.openai.azure.com//openai/deployments/text-embedding-ada-002/embeddings?api-version=2023-07-01-preview \"HTTP/1.1 200 OK\"\n",
      "INFO:httpx:HTTP Request: POST https://azure-openai-98325.openai.azure.com//openai/deployments/gpt-35-turbo/chat/completions?api-version=2023-07-01-preview \"HTTP/1.1 200 OK\"\n",
      "INFO:httpx:HTTP Request: POST https://azure-openai-98325.openai.azure.com//openai/deployments/text-embedding-ada-002/embeddings?api-version=2023-07-01-preview \"HTTP/1.1 200 OK\"\n",
      "INFO:httpx:HTTP Request: POST https://azure-openai-98325.openai.azure.com//openai/deployments/gpt-35-turbo/chat/completions?api-version=2023-07-01-preview \"HTTP/1.1 200 OK\"\n",
      "INFO:httpx:HTTP Request: POST https://azure-openai-98325.openai.azure.com//openai/deployments/text-embedding-ada-002/embeddings?api-version=2023-07-01-preview \"HTTP/1.1 200 OK\"\n",
      "INFO:httpx:HTTP Request: POST https://azure-openai-98325.openai.azure.com//openai/deployments/text-embedding-ada-002/embeddings?api-version=2023-07-01-preview \"HTTP/1.1 200 OK\"\n",
      "INFO:httpx:HTTP Request: POST https://azure-openai-98325.openai.azure.com//openai/deployments/gpt-35-turbo/chat/completions?api-version=2023-07-01-preview \"HTTP/1.1 200 OK\"\n",
      "INFO:httpx:HTTP Request: POST https://azure-openai-98325.openai.azure.com//openai/deployments/text-embedding-ada-002/embeddings?api-version=2023-07-01-preview \"HTTP/1.1 200 OK\"\n",
      "INFO:httpx:HTTP Request: POST https://azure-openai-98325.openai.azure.com//openai/deployments/gpt-35-turbo/chat/completions?api-version=2023-07-01-preview \"HTTP/1.1 200 OK\"\n",
      "INFO:httpx:HTTP Request: POST https://azure-openai-98325.openai.azure.com//openai/deployments/text-embedding-ada-002/embeddings?api-version=2023-07-01-preview \"HTTP/1.1 200 OK\"\n",
      "INFO:httpx:HTTP Request: POST https://azure-openai-98325.openai.azure.com//openai/deployments/gpt-35-turbo/chat/completions?api-version=2023-07-01-preview \"HTTP/1.1 200 OK\"\n",
      "INFO:httpx:HTTP Request: POST https://azure-openai-98325.openai.azure.com//openai/deployments/text-embedding-ada-002/embeddings?api-version=2023-07-01-preview \"HTTP/1.1 200 OK\"\n",
      "INFO:httpx:HTTP Request: POST https://azure-openai-98325.openai.azure.com//openai/deployments/gpt-35-turbo/chat/completions?api-version=2023-07-01-preview \"HTTP/1.1 200 OK\"\n",
      "INFO:httpx:HTTP Request: POST https://azure-openai-98325.openai.azure.com//openai/deployments/text-embedding-ada-002/embeddings?api-version=2023-07-01-preview \"HTTP/1.1 200 OK\"\n",
      "INFO:httpx:HTTP Request: POST https://azure-openai-98325.openai.azure.com//openai/deployments/gpt-35-turbo/chat/completions?api-version=2023-07-01-preview \"HTTP/1.1 200 OK\"\n",
      "INFO:httpx:HTTP Request: POST https://azure-openai-98325.openai.azure.com//openai/deployments/text-embedding-ada-002/embeddings?api-version=2023-07-01-preview \"HTTP/1.1 200 OK\"\n"
     ]
    }
   ],
   "source": [
    "kg_index = KnowledgeGraphIndex.from_documents(\n",
    "    documents,\n",
    "    storage_context=storage_context,\n",
    "    max_triplets_per_chunk=10,\n",
    "    space_name=space_name,\n",
    "    edge_types=edge_types,\n",
    "    rel_prop_names=rel_prop_names,\n",
    "    tags=tags,\n",
    "    include_embeddings=True,\n",
    ")"
   ]
  },
  {
   "cell_type": "code",
   "execution_count": 66,
   "id": "51282226-49ff-4c85-aa43-77b273931d65",
   "metadata": {},
   "outputs": [],
   "source": [
    "kg_index.storage_context.persist(persist_dir='./storage_graph')"
   ]
  },
  {
   "cell_type": "code",
   "execution_count": 67,
   "id": "2795bd30-b9c8-426c-ba8a-503b3aebb32a",
   "metadata": {},
   "outputs": [
    {
     "name": "stdout",
     "output_type": "stream",
     "text": [
      "INFO:llama_index.core.indices.loading:Loading all indices.\n"
     ]
    },
    {
     "name": "stderr",
     "output_type": "stream",
     "text": [
      "/tmp/ipykernel_59476/3725880670.py:2: DeprecationWarning: Call to deprecated function (or staticmethod) from_defaults. (ServiceContext is deprecated, please use `llama_index.settings.Settings` instead.) -- Deprecated since version 0.10.0.\n",
      "  service_context = ServiceContext.from_defaults(\n"
     ]
    }
   ],
   "source": [
    "storage_context = StorageContext.from_defaults(persist_dir='./storage_graph', graph_store=graph_store)\n",
    "service_context = ServiceContext.from_defaults(\n",
    "    llm=lc_llm,\n",
    "    embed_model=embedding_llm,\n",
    ")\n",
    "\n",
    "set_global_service_context(service_context)\n",
    "\n",
    "kg_index = load_index_from_storage(\n",
    "    storage_context=storage_context,\n",
    "    service_context=service_context,\n",
    "    max_triplets_per_chunk=10,\n",
    "    space_name=space_name,\n",
    "    edge_types=edge_types,\n",
    "    rel_prop_names=rel_prop_names,\n",
    "    tags=tags,\n",
    "    verbose=True,\n",
    ")"
   ]
  },
  {
   "cell_type": "code",
   "execution_count": 68,
   "id": "3e53d1fd-d7bf-4d2b-82e9-0aa6654dbdaa",
   "metadata": {},
   "outputs": [],
   "source": [
    "from llama_index.core.query_engine import KnowledgeGraphQueryEngine\n",
    "\n",
    "nl2kg_query_engine = KnowledgeGraphQueryEngine(\n",
    "    storage_context=storage_context,\n",
    "    service_context=service_context,\n",
    "    llm=lc_llm,\n",
    ")"
   ]
  },
  {
   "cell_type": "code",
   "execution_count": 69,
   "id": "7dc14afc-5b5f-48b4-8d0f-6eb39cc75a79",
   "metadata": {},
   "outputs": [],
   "source": [
    "kg_index_query_engine = kg_index.as_query_engine(\n",
    "    retriever_mode=\"keyword\",\n",
    "    verbose=True,\n",
    "    response_mode=\"tree_summarize\",\n",
    ")"
   ]
  },
  {
   "cell_type": "code",
   "execution_count": 70,
   "id": "583c8459-4ea8-44f0-a4d0-82be6ba16bba",
   "metadata": {},
   "outputs": [
    {
     "name": "stdout",
     "output_type": "stream",
     "text": [
      "INFO:httpx:HTTP Request: POST https://azure-openai-98325.openai.azure.com//openai/deployments/gpt-35-turbo/chat/completions?api-version=2023-07-01-preview \"HTTP/1.1 200 OK\"\n",
      "\u001b[1;3;32mExtracted keywords: ['Cybertruck']\n",
      "\u001b[0mINFO:llama_index.core.indices.knowledge_graph.retrievers:> Querying with idx: 72e2755e-92c4-444f-9fdc-0ca9512c05ba: === Powertrain ===\n",
      "Tesla stated that they use a platform approach to the powe...\n",
      "INFO:llama_index.core.indices.knowledge_graph.retrievers:> Querying with idx: 3e4146a4-cfbf-4502-b18b-318f6cb118c7: == Production and availability ==\n",
      "\n",
      "Cybertruck production began in Gigafactory...\n",
      "INFO:llama_index.core.indices.knowledge_graph.retrievers:> Querying with idx: e7e4cd1d-3ad1-4c84-adae-c6a0aed42030: === 2019 concept ===\n",
      "\n",
      "The concept Cybertruck was unveiled in Los Angeles in N...\n",
      "\u001b[1;3;34mKG context:\n",
      "The following are knowledge sequence in max depth 2 in the form of directed graph like:\n",
      "`subject -[predicate]->, object, <-[predicate_next_hop]-, object_next_hop ...`\n",
      "Cybertruck{name: Cybertruck} <-[relationship:{relationship: Limited availability of}]- Tesla{name: Tesla} -[relationship:{relationship: Stopped taking orders for}]-> Cybertruck{name: Cybertruck}\n",
      "Cybertruck{name: Cybertruck} <-[relationship:{relationship: Limited availability of}]- Tesla{name: Tesla} -[relationship:{relationship: Stopped taking orders for cybertruck}]-> From customers outside north america{name: From customers outside north america}\n",
      "Cybertruck{name: Cybertruck} <-[relationship:{relationship: Limited availability of}]- Tesla{name: Tesla} -[relationship:{relationship: Invented}]-> Manufacturing process called  air bending{name: Manufacturing process called  air bending}\n",
      "Cybertruck{name: Cybertruck} <-[relationship:{relationship: Limited availability of}]- Tesla{name: Tesla} -[relationship:{relationship: Clarified}]-> Pilot production{name: Pilot production}\n",
      "Cybertruck{name: Cybertruck} <-[relationship:{relationship: Limited availability of}]- Tesla{name: Tesla} -[relationship:{relationship: Unveiled}]-> Cybertruck{name: Cybertruck}\n",
      "Cybertruck{name: Cybertruck} <-[relationship:{relationship: Limited availability of}]- Tesla{name: Tesla} -[relationship:{relationship: Developed}]-> Stainless-steel alloy in partnership with aperam{name: Stainless-steel alloy in partnership with aperam}\n",
      "Cybertruck{name: Cybertruck} <-[relationship:{relationship: Limited availability of}]- Tesla{name: Tesla} -[relationship:{relationship: Contemplated}]-> Quad-motor option{name: Quad-motor option}\n",
      "Cybertruck{name: Cybertruck} <-[relationship:{relationship: Limited availability of}]- Tesla{name: Tesla} -[relationship:{relationship: Built}]-> Tesla cybertruck{name: Tesla cybertruck}\n",
      "Cybertruck{name: Cybertruck} <-[relationship:{relationship: Limited availability of}]- Tesla{name: Tesla} -[relationship:{relationship: Built}]-> First cybertruck{name: First cybertruck}\n",
      "Cybertruck{name: Cybertruck} <-[relationship:{relationship: Limited availability of}]- Tesla{name: Tesla} -[relationship:{relationship: Uses}]-> Platform approach{name: Platform approach}\n",
      "Cybertruck{name: Cybertruck} <-[relationship:{relationship: Limited availability of}]- Tesla{name: Tesla} -[relationship:{relationship: Delivered}]-> First 10 or 12 production units{name: First 10 or 12 production units}\n",
      "Cybertruck{name: Cybertruck} <-[relationship:{relationship: Limited availability of}]- Tesla{name: Tesla} -[relationship:{relationship: Clarified}]-> This was pilot production{name: This was pilot production}\n",
      "Cybertruck{name: Cybertruck} <-[relationship:{relationship: Limited availability of}]- Tesla{name: Tesla} -[relationship:{relationship: Defended the design of cybertruck}]-> Saying that the structures would absorb an impact during a crash{name: Saying that the structures would absorb an impact during a crash}\n",
      "Cybertruck{name: Cybertruck} <-[relationship:{relationship: Stopped taking orders for}]- Tesla{name: Tesla} -[relationship:{relationship: Stopped taking orders for cybertruck}]-> From customers outside north america{name: From customers outside north america}\n",
      "Cybertruck{name: Cybertruck} <-[relationship:{relationship: Stopped taking orders for}]- Tesla{name: Tesla} -[relationship:{relationship: Unveiled}]-> Cybertruck{name: Cybertruck}\n",
      "Cybertruck{name: Cybertruck} <-[relationship:{relationship: Stopped taking orders for}]- Tesla{name: Tesla} -[relationship:{relationship: Developed}]-> Stainless-steel alloy with aperam{name: Stainless-steel alloy with aperam}\n",
      "Cybertruck{name: Cybertruck} <-[relationship:{relationship: Stopped taking orders for}]- Tesla{name: Tesla} -[relationship:{relationship: Defended the design}]-> Saying that the structures of the truck would absorb an impact during a crash{name: Saying that the structures of the truck would absorb an impact during a crash}\n",
      "Cybertruck{name: Cybertruck} <-[relationship:{relationship: Stopped taking orders for}]- Tesla{name: Tesla} -[relationship:{relationship: Developed}]-> Stainless-steel alloy in partnership with aperam{name: Stainless-steel alloy in partnership with aperam}\n",
      "Cybertruck{name: Cybertruck} <-[relationship:{relationship: Stopped taking orders for}]- Tesla{name: Tesla} -[relationship:{relationship: Has design for}]-> Amphibious vehicle{name: Amphibious vehicle}\n",
      "Cybertruck{name: Cybertruck} <-[relationship:{relationship: Stopped taking orders for}]- Tesla{name: Tesla} -[relationship:{relationship: Accepted}]-> Cybertruck reservations{name: Cybertruck reservations}\n",
      "Cybertruck{name: Cybertruck} <-[relationship:{relationship: Limited availability of}]- Tesla{name: Tesla} -[relationship:{relationship: Defended the design}]-> Saying that the structures of the truck would absorb an impact during a crash{name: Saying that the structures of the truck would absorb an impact during a crash}\n",
      "Cybertruck{name: Cybertruck} <-[relationship:{relationship: Stopped taking orders for}]- Tesla{name: Tesla} -[relationship:{relationship: Built}]-> Tesla cybertruck{name: Tesla cybertruck}\n",
      "Cybertruck{name: Cybertruck} <-[relationship:{relationship: Stopped taking orders for}]- Tesla{name: Tesla} -[relationship:{relationship: Uses}]-> Single induction motor rotor/stator design{name: Single induction motor rotor/stator design}\n",
      "Cybertruck{name: Cybertruck} <-[relationship:{relationship: Stopped taking orders for}]- Tesla{name: Tesla} -[relationship:{relationship: Uses}]-> Single gear set design{name: Single gear set design}\n",
      "Cybertruck{name: Cybertruck} <-[relationship:{relationship: Stopped taking orders for}]- Tesla{name: Tesla} -[relationship:{relationship: Uses}]-> Platform approach{name: Platform approach}\n",
      "Cybertruck{name: Cybertruck} <-[relationship:{relationship: Stopped taking orders for}]- Tesla{name: Tesla} -[relationship:{relationship: Built}]-> First cybertruck{name: First cybertruck}\n",
      "Cybertruck{name: Cybertruck} <-[relationship:{relationship: Stopped taking orders for}]- Tesla{name: Tesla} -[relationship:{relationship: Invented}]-> Air bending manufacturing process{name: Air bending manufacturing process}\n",
      "Cybertruck{name: Cybertruck} <-[relationship:{relationship: Stopped taking orders for}]- Tesla{name: Tesla} -[relationship:{relationship: Goal}]-> Provide sustainable energy substitute for fossil-fuel-powered trucks{name: Provide sustainable energy substitute for fossil-fuel-powered trucks}\n",
      "Cybertruck{name: Cybertruck} <-[relationship:{relationship: Stopped taking orders for}]- Tesla{name: Tesla} -[relationship:{relationship: Planned to produce}]-> Cybertruck in 2021{name: Cybertruck in 2021}\n",
      "Cybertruck{name: Cybertruck} <-[relationship:{relationship: Stopped taking orders for}]- Tesla{name: Tesla} -[relationship:{relationship: Defended the design of cybertruck}]-> Saying that the structures would absorb an impact during a crash{name: Saying that the structures would absorb an impact during a crash}\n",
      "\u001b[0mINFO:httpx:HTTP Request: POST https://azure-openai-98325.openai.azure.com//openai/deployments/gpt-35-turbo/chat/completions?api-version=2023-07-01-preview \"HTTP/1.1 200 OK\"\n",
      "\n",
      "\n"
     ]
    },
    {
     "data": {
      "text/markdown": [
       "<b>Cybertruck is a vehicle developed by Tesla that uses a platform approach to powertrain components, including a single permanent magnet motor rotor/stator design, a single induction motor rotor/stator design, a single motor inverter design, and a single gear set design. It comes in three configurations: tri-motor AWD, dual-motor AWD, and single-motor RWD, with power ranging from 845 hp (630 kW) on the tri-motor down to 315 hp (235 kW) in the single-motor version. The windows use borosilicate glass, and the vehicle has raised safety concerns due to its angular design and stiff stainless-steel exterior. Cybertruck production began in Gigafactory Texas in Austin, Texas, with pre-production models in July 2023, and serial production had begun by November 2023. As of December 2023, Tesla confirmed that the Cybertruck will be available exclusively in the United States, Canada, and Mexico, with no plans for release in other global markets, including Europe and Australia.</b>"
      ],
      "text/plain": [
       "<IPython.core.display.Markdown object>"
      ]
     },
     "metadata": {},
     "output_type": "display_data"
    }
   ],
   "source": [
    "from IPython.display import Markdown\n",
    "\n",
    "response_graph_rag = kg_index_query_engine.query(\"What is Cybertruck\")\n",
    "\n",
    "print(\"\\n\")\n",
    "display(Markdown(f\"<b>{response_graph_rag}</b>\"))"
   ]
  },
  {
   "cell_type": "code",
   "execution_count": 71,
   "id": "a37109aa-0ae9-4ba5-9bec-9a82e51cd8d4",
   "metadata": {},
   "outputs": [
    {
     "name": "stdout",
     "output_type": "stream",
     "text": [
      "INFO:httpx:HTTP Request: POST https://azure-openai-98325.openai.azure.com//openai/deployments/gpt-35-turbo/chat/completions?api-version=2023-07-01-preview \"HTTP/1.1 200 OK\"\n",
      "\u001b[1;3;32mExtracted keywords: ['Musk', 'Elon Musk', 'Elon']\n",
      "\u001b[0mINFO:llama_index.core.indices.knowledge_graph.retrievers:> Querying with idx: 5a6f2b44-3f19-4f28-b54b-c6e637f10f98: == Design ==\n",
      "\n",
      "\n",
      "=== Inspiration and styling ===\n",
      "\n",
      "According to Musk, the design...\n",
      "INFO:llama_index.core.indices.knowledge_graph.retrievers:> Querying with idx: c4520e68-7cfb-44a2-87d8-f18af5fbcb8b: === Reservations ===\n",
      "\n",
      "Beginning in November 2019, Tesla accepted Cybertruck r...\n",
      "\u001b[1;3;34mKG context:\n",
      "The following are knowledge sequence in max depth 2 in the form of directed graph like:\n",
      "`subject -[predicate]->, object, <-[predicate_next_hop]-, object_next_hop ...`\n",
      "Musk{name: Musk} -[relationship:{relationship: Claimed}]-> Windows were damaged because of sledgehammer demonstration{name: Windows were damaged because of sledgehammer demonstration} <-[relationship:{relationship: Claimed}]- Musk{name: Musk}\n",
      "Musk{name: Musk} -[relationship:{relationship: Wanted cybertruck to have}]-> All the utility of a pick-up truck{name: All the utility of a pick-up truck} <-[relationship:{relationship: Wanted cybertruck to have}]- Musk{name: Musk}\n",
      "Musk{name: Musk} -[relationship:{relationship: Inspired by}]-> Wet nellie{name: Wet nellie} -[relationship:{relationship: Driven by}]-> James bond{name: James bond}\n",
      "Musk{name: Musk} -[relationship:{relationship: Inspired by}]-> Wet nellie{name: Wet nellie} -[relationship:{relationship: Was driven by}]-> James bond{name: James bond}\n",
      "Musk{name: Musk} -[relationship:{relationship: Inspired by}]-> Wet nellie{name: Wet nellie} <-[relationship:{relationship: Inspired by}]- Musk{name: Musk}\n",
      "Musk{name: Musk} -[relationship:{relationship: Stated}]-> Final specifications and pricing would be different{name: Final specifications and pricing would be different} <-[relationship:{relationship: Stated}]- Musk{name: Musk}\n",
      "Musk{name: Musk} -[relationship:{relationship: Inspired by}]-> Blade runner{name: Blade runner} <-[relationship:{relationship: Inspired by}]- Musk{name: Musk}\n",
      "Musk{name: Musk} -[relationship:{relationship: Involved in}]-> Design process{name: Design process}\n",
      "Musk{name: Musk} -[relationship:{relationship: Stated}]-> Final specifications and pricing would be materially different{name: Final specifications and pricing would be materially different} <-[relationship:{relationship: Stated}]- Musk{name: Musk}\n",
      "Musk{name: Musk} -[relationship:{relationship: Claimed}]-> Windows were damaged because of sledgehammer demonstration{name: Windows were damaged because of sledgehammer demonstration}\n",
      "Musk{name: Musk} -[relationship:{relationship: Used son's quote as}]-> Inspiration for design{name: Inspiration for design}\n",
      "Musk{name: Musk} -[relationship:{relationship: Involved in}]-> Design process{name: Design process} <-[relationship:{relationship: Involved in}]- Musk{name: Musk}\n",
      "Musk{name: Musk} -[relationship:{relationship: Stated}]-> Final specifications and pricing would be different from 2019 concept vehicle{name: Final specifications and pricing would be different from 2019 concept vehicle}\n",
      "Musk{name: Musk} -[relationship:{relationship: Inspired by}]-> Wet nellie{name: Wet nellie}\n",
      "Musk{name: Musk} -[relationship:{relationship: Used son's quote as}]-> Inspiration for design{name: Inspiration for design} <-[relationship:{relationship: Used son's quote as}]- Musk{name: Musk}\n",
      "Musk{name: Musk} -[relationship:{relationship: Inspired by}]-> Wet nellie{name: Wet nellie} <-[relationship:{relationship: Was inspired by}]- Cybertruck{name: Cybertruck}\n",
      "Musk{name: Musk} -[relationship:{relationship: Inspired by}]-> Blade runner{name: Blade runner}\n",
      "Musk{name: Musk} -[relationship:{relationship: Wanted cybertruck to have}]-> All the utility of a pick-up truck{name: All the utility of a pick-up truck} <-[relationship:{relationship: Was designed to have}]- Cybertruck{name: Cybertruck}\n",
      "Musk{name: Musk} -[relationship:{relationship: Stated}]-> Final specifications and pricing would be materially different{name: Final specifications and pricing would be materially different}\n",
      "Musk{name: Musk} -[relationship:{relationship: Stated}]-> Final specifications and pricing would be different{name: Final specifications and pricing would be different}\n",
      "Musk{name: Musk} -[relationship:{relationship: Wanted cybertruck to have}]-> All the utility of a pick-up truck{name: All the utility of a pick-up truck}\n",
      "Musk{name: Musk} -[relationship:{relationship: Inspired by}]-> Blade runner{name: Blade runner} <-[relationship:{relationship: Was inspired by}]- Cybertruck{name: Cybertruck}\n",
      "\u001b[0mINFO:httpx:HTTP Request: POST https://azure-openai-98325.openai.azure.com//openai/deployments/gpt-35-turbo/chat/completions?api-version=2023-07-01-preview \"HTTP/1.1 200 OK\"\n",
      "\n",
      "\n"
     ]
    },
    {
     "data": {
      "text/markdown": [
       "<b>Elon Musk is mentioned multiple times in the provided context information as the CEO of Tesla and the person involved in the design process of the Cybertruck. He was inspired by Blade Runner and the Lotus Esprit driven by James Bond in The Spy Who Loved Me, which doubled as a submarine, for the design of the Cybertruck. Musk's son's quote \"Why doesn't the future look like the future?\" was used as an inspiration for the design as well. Musk wanted the Cybertruck to have all the utility of a pick-up truck but drive like a sports car. He also claimed that final specifications and pricing for the Cybertruck would be materially different from those unveiled on the concept vehicle in 2019.</b>"
      ],
      "text/plain": [
       "<IPython.core.display.Markdown object>"
      ]
     },
     "metadata": {},
     "output_type": "display_data"
    }
   ],
   "source": [
    "response_graph_rag = kg_index_query_engine.query(\"Who is Elon Musk?\")\n",
    "\n",
    "print(\"\\n\")\n",
    "display(Markdown(f\"<b>{response_graph_rag}</b>\"))"
   ]
  },
  {
   "cell_type": "code",
   "execution_count": 72,
   "id": "5857957f-f687-4794-a33e-3a36b9eff91c",
   "metadata": {},
   "outputs": [
    {
     "name": "stdout",
     "output_type": "stream",
     "text": [
      "INFO:httpx:HTTP Request: POST https://azure-openai-98325.openai.azure.com//openai/deployments/gpt-35-turbo/chat/completions?api-version=2023-07-01-preview \"HTTP/1.1 200 OK\"\n",
      "\u001b[1;3;32mExtracted keywords: ['Cybertruck', 'powerful']\n",
      "\u001b[0mINFO:llama_index.core.indices.knowledge_graph.retrievers:> Querying with idx: 72e2755e-92c4-444f-9fdc-0ca9512c05ba: === Powertrain ===\n",
      "Tesla stated that they use a platform approach to the powe...\n",
      "INFO:llama_index.core.indices.knowledge_graph.retrievers:> Querying with idx: 3e4146a4-cfbf-4502-b18b-318f6cb118c7: == Production and availability ==\n",
      "\n",
      "Cybertruck production began in Gigafactory...\n",
      "INFO:llama_index.core.indices.knowledge_graph.retrievers:> Querying with idx: e7e4cd1d-3ad1-4c84-adae-c6a0aed42030: === 2019 concept ===\n",
      "\n",
      "The concept Cybertruck was unveiled in Los Angeles in N...\n",
      "\u001b[1;3;34mKG context:\n",
      "The following are knowledge sequence in max depth 2 in the form of directed graph like:\n",
      "`subject -[predicate]->, object, <-[predicate_next_hop]-, object_next_hop ...`\n",
      "Cybertruck{name: Cybertruck} <-[relationship:{relationship: Limited availability of}]- Tesla{name: Tesla} -[relationship:{relationship: Stopped taking orders for}]-> Cybertruck{name: Cybertruck}\n",
      "Cybertruck{name: Cybertruck} <-[relationship:{relationship: Limited availability of}]- Tesla{name: Tesla} -[relationship:{relationship: Stopped taking orders for cybertruck}]-> From customers outside north america{name: From customers outside north america}\n",
      "Cybertruck{name: Cybertruck} <-[relationship:{relationship: Limited availability of}]- Tesla{name: Tesla} -[relationship:{relationship: Invented}]-> Manufacturing process called  air bending{name: Manufacturing process called  air bending}\n",
      "Cybertruck{name: Cybertruck} <-[relationship:{relationship: Limited availability of}]- Tesla{name: Tesla} -[relationship:{relationship: Clarified}]-> Pilot production{name: Pilot production}\n",
      "Cybertruck{name: Cybertruck} <-[relationship:{relationship: Limited availability of}]- Tesla{name: Tesla} -[relationship:{relationship: Unveiled}]-> Cybertruck{name: Cybertruck}\n",
      "Cybertruck{name: Cybertruck} <-[relationship:{relationship: Limited availability of}]- Tesla{name: Tesla} -[relationship:{relationship: Developed}]-> Stainless-steel alloy in partnership with aperam{name: Stainless-steel alloy in partnership with aperam}\n",
      "Cybertruck{name: Cybertruck} <-[relationship:{relationship: Limited availability of}]- Tesla{name: Tesla} -[relationship:{relationship: Contemplated}]-> Quad-motor option{name: Quad-motor option}\n",
      "Cybertruck{name: Cybertruck} <-[relationship:{relationship: Limited availability of}]- Tesla{name: Tesla} -[relationship:{relationship: Built}]-> Tesla cybertruck{name: Tesla cybertruck}\n",
      "Cybertruck{name: Cybertruck} <-[relationship:{relationship: Limited availability of}]- Tesla{name: Tesla} -[relationship:{relationship: Built}]-> First cybertruck{name: First cybertruck}\n",
      "Cybertruck{name: Cybertruck} <-[relationship:{relationship: Limited availability of}]- Tesla{name: Tesla} -[relationship:{relationship: Uses}]-> Platform approach{name: Platform approach}\n",
      "Cybertruck{name: Cybertruck} <-[relationship:{relationship: Limited availability of}]- Tesla{name: Tesla} -[relationship:{relationship: Delivered}]-> First 10 or 12 production units{name: First 10 or 12 production units}\n",
      "Cybertruck{name: Cybertruck} <-[relationship:{relationship: Limited availability of}]- Tesla{name: Tesla} -[relationship:{relationship: Clarified}]-> This was pilot production{name: This was pilot production}\n",
      "Cybertruck{name: Cybertruck} <-[relationship:{relationship: Limited availability of}]- Tesla{name: Tesla} -[relationship:{relationship: Defended the design of cybertruck}]-> Saying that the structures would absorb an impact during a crash{name: Saying that the structures would absorb an impact during a crash}\n",
      "Cybertruck{name: Cybertruck} <-[relationship:{relationship: Stopped taking orders for}]- Tesla{name: Tesla} -[relationship:{relationship: Stopped taking orders for cybertruck}]-> From customers outside north america{name: From customers outside north america}\n",
      "Cybertruck{name: Cybertruck} <-[relationship:{relationship: Stopped taking orders for}]- Tesla{name: Tesla} -[relationship:{relationship: Unveiled}]-> Cybertruck{name: Cybertruck}\n",
      "Cybertruck{name: Cybertruck} <-[relationship:{relationship: Stopped taking orders for}]- Tesla{name: Tesla} -[relationship:{relationship: Developed}]-> Stainless-steel alloy with aperam{name: Stainless-steel alloy with aperam}\n",
      "Cybertruck{name: Cybertruck} <-[relationship:{relationship: Stopped taking orders for}]- Tesla{name: Tesla} -[relationship:{relationship: Defended the design}]-> Saying that the structures of the truck would absorb an impact during a crash{name: Saying that the structures of the truck would absorb an impact during a crash}\n",
      "Cybertruck{name: Cybertruck} <-[relationship:{relationship: Stopped taking orders for}]- Tesla{name: Tesla} -[relationship:{relationship: Developed}]-> Stainless-steel alloy in partnership with aperam{name: Stainless-steel alloy in partnership with aperam}\n",
      "Cybertruck{name: Cybertruck} <-[relationship:{relationship: Stopped taking orders for}]- Tesla{name: Tesla} -[relationship:{relationship: Has design for}]-> Amphibious vehicle{name: Amphibious vehicle}\n",
      "Cybertruck{name: Cybertruck} <-[relationship:{relationship: Stopped taking orders for}]- Tesla{name: Tesla} -[relationship:{relationship: Accepted}]-> Cybertruck reservations{name: Cybertruck reservations}\n",
      "Cybertruck{name: Cybertruck} <-[relationship:{relationship: Limited availability of}]- Tesla{name: Tesla} -[relationship:{relationship: Defended the design}]-> Saying that the structures of the truck would absorb an impact during a crash{name: Saying that the structures of the truck would absorb an impact during a crash}\n",
      "Cybertruck{name: Cybertruck} <-[relationship:{relationship: Stopped taking orders for}]- Tesla{name: Tesla} -[relationship:{relationship: Built}]-> Tesla cybertruck{name: Tesla cybertruck}\n",
      "Cybertruck{name: Cybertruck} <-[relationship:{relationship: Stopped taking orders for}]- Tesla{name: Tesla} -[relationship:{relationship: Uses}]-> Single induction motor rotor/stator design{name: Single induction motor rotor/stator design}\n",
      "Cybertruck{name: Cybertruck} <-[relationship:{relationship: Stopped taking orders for}]- Tesla{name: Tesla} -[relationship:{relationship: Uses}]-> Single gear set design{name: Single gear set design}\n",
      "Cybertruck{name: Cybertruck} <-[relationship:{relationship: Stopped taking orders for}]- Tesla{name: Tesla} -[relationship:{relationship: Uses}]-> Platform approach{name: Platform approach}\n",
      "Cybertruck{name: Cybertruck} <-[relationship:{relationship: Stopped taking orders for}]- Tesla{name: Tesla} -[relationship:{relationship: Built}]-> First cybertruck{name: First cybertruck}\n",
      "Cybertruck{name: Cybertruck} <-[relationship:{relationship: Stopped taking orders for}]- Tesla{name: Tesla} -[relationship:{relationship: Invented}]-> Air bending manufacturing process{name: Air bending manufacturing process}\n",
      "Cybertruck{name: Cybertruck} <-[relationship:{relationship: Stopped taking orders for}]- Tesla{name: Tesla} -[relationship:{relationship: Goal}]-> Provide sustainable energy substitute for fossil-fuel-powered trucks{name: Provide sustainable energy substitute for fossil-fuel-powered trucks}\n",
      "Cybertruck{name: Cybertruck} <-[relationship:{relationship: Stopped taking orders for}]- Tesla{name: Tesla} -[relationship:{relationship: Planned to produce}]-> Cybertruck in 2021{name: Cybertruck in 2021}\n",
      "Cybertruck{name: Cybertruck} <-[relationship:{relationship: Stopped taking orders for}]- Tesla{name: Tesla} -[relationship:{relationship: Defended the design of cybertruck}]-> Saying that the structures would absorb an impact during a crash{name: Saying that the structures would absorb an impact during a crash}\n",
      "\u001b[0mINFO:httpx:HTTP Request: POST https://azure-openai-98325.openai.azure.com//openai/deployments/gpt-35-turbo/chat/completions?api-version=2023-07-01-preview \"HTTP/1.1 200 OK\"\n",
      "\n",
      "\n"
     ]
    },
    {
     "data": {
      "text/markdown": [
       "<b>The Cybertruck comes in three configurations: tri-motor AWD, dual-motor AWD, and single-motor RWD. The tri-motor AWD version offers a maximum combined output of 845 hp (630 kW) in Beast Mode, split as 276 hp (206 kW) for the front motor and 284 hp (212 kW) for each rear motor. The dual-motor AWD version has a total power output of 600 hp (450 kW), with an induction motor on the front axle with a maximum output of 303 hp (226 kW) and a permanent magnet motor on the rear axle with a maximum output of 297 hp (221 kW). The single-motor RWD version has a power output of 315 hp (235 kW).</b>"
      ],
      "text/plain": [
       "<IPython.core.display.Markdown object>"
      ]
     },
     "metadata": {},
     "output_type": "display_data"
    }
   ],
   "source": [
    "response_graph_rag = kg_index_query_engine.query(\"How powerful is the Cybertruck?\")\n",
    "print(\"\\n\")\n",
    "display(Markdown(f\"<b>{response_graph_rag}</b>\"))"
   ]
  },
  {
   "cell_type": "code",
   "execution_count": 73,
   "id": "50946e6d-3c7d-4fd1-a306-24d8a06b7522",
   "metadata": {},
   "outputs": [],
   "source": [
    "#re=nl2kg_query_engine.query(\"SHOW HOSTS\")"
   ]
  },
  {
   "cell_type": "code",
   "execution_count": 74,
   "id": "e79fe290-a886-48b8-9d45-94a24730abfa",
   "metadata": {},
   "outputs": [],
   "source": [
    "#response = nl2kg_query_engine.query(\n",
    "    #\"Tell me about Peter Quill?\",\n",
    "#)\n",
    "#display(Markdown(f\"<b>{response}</b>\"))"
   ]
  },
  {
   "cell_type": "code",
   "execution_count": null,
   "id": "9b96f8f0-be2f-4f29-ad1f-3dbc34afb724",
   "metadata": {},
   "outputs": [],
   "source": []
  },
  {
   "cell_type": "code",
   "execution_count": null,
   "id": "8942c17d-feca-4f26-a106-6a33c93afa0d",
   "metadata": {},
   "outputs": [],
   "source": []
  },
  {
   "cell_type": "code",
   "execution_count": null,
   "id": "a372d9b8-ea36-4ccf-91da-a0c91a628040",
   "metadata": {},
   "outputs": [],
   "source": []
  },
  {
   "cell_type": "code",
   "execution_count": null,
   "id": "bbcc1826-18f9-4078-a26e-911d4a8db6ca",
   "metadata": {},
   "outputs": [],
   "source": []
  }
 ],
 "metadata": {
  "kernelspec": {
   "display_name": "Python 3 (ipykernel)",
   "language": "python",
   "name": "python3"
  },
  "language_info": {
   "codemirror_mode": {
    "name": "ipython",
    "version": 3
   },
   "file_extension": ".py",
   "mimetype": "text/x-python",
   "name": "python",
   "nbconvert_exporter": "python",
   "pygments_lexer": "ipython3",
   "version": "3.8.10"
  }
 },
 "nbformat": 4,
 "nbformat_minor": 5
}
